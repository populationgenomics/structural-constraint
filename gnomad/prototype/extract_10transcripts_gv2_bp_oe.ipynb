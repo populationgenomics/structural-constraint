{
 "cells": [
  {
   "cell_type": "code",
   "execution_count": 1,
   "id": "bb258de9-95ad-48d1-be8b-e7d4c37164c4",
   "metadata": {},
   "outputs": [
    {
     "name": "stdout",
     "output_type": "stream",
     "text": [
      "2022-11-05 05:14:17 WARN  NativeCodeLoader:60 - Unable to load native-hadoop library for your platform... using builtin-java classes where applicable\n"
     ]
    },
    {
     "name": "stderr",
     "output_type": "stream",
     "text": [
      "Setting default log level to \"WARN\".\n",
      "To adjust logging level use sc.setLogLevel(newLevel). For SparkR, use setLogLevel(newLevel).\n"
     ]
    },
    {
     "name": "stdout",
     "output_type": "stream",
     "text": [
      "2022-11-05 05:14:19 WARN  Utils:69 - Service 'SparkUI' could not bind on port 4040. Attempting port 4041.\n",
      "2022-11-05 05:14:19 WARN  Utils:69 - Service 'SparkUI' could not bind on port 4041. Attempting port 4042.\n"
     ]
    },
    {
     "name": "stderr",
     "output_type": "stream",
     "text": [
      "Running on Apache Spark version 3.1.3\n",
      "SparkUI available at http://0c2923260f02:4042\n",
      "Welcome to\n",
      "     __  __     <>__\n",
      "    / /_/ /__  __/ /\n",
      "   / __  / _ `/ / /\n",
      "  /_/ /_/\\_,_/_/_/   version 0.2.98-f8833c1ae16b\n",
      "LOGGING: writing to /home/jupyter/structural-constraint/gnomad/prototype/hail-20221105-0514-0.2.98-f8833c1ae16b.log\n"
     ]
    }
   ],
   "source": [
    "# LT 15/10/2022\n",
    "# for the 10 genes testing panel\n",
    "# extract mutational model expected values from RMC project\n",
    "\n",
    "import hail as hl\n",
    "import json\n",
    "\n",
    "hl.init(default_reference='GRCh38',\n",
    "        spark_conf = {\n",
    "            'spark.hadoop.fs.gs.requester.pays.mode': 'CUSTOM',\n",
    "            'spark.hadoop.fs.gs.requester.pays.buckets': 'regional_missense_constraint',\n",
    "            'spark.hadoop.fs.gs.requester.pays.project.id': 'constraint-232598',\n",
    "        })"
   ]
  },
  {
   "cell_type": "code",
   "execution_count": 12,
   "id": "202034df-c9ba-4fb7-be19-444a4a3bb4c5",
   "metadata": {},
   "outputs": [],
   "source": [
    "# RMC results table\n",
    "rmc_ht = hl.read_table('gs://regional_missense_constraint/model/2.1.1/1/context_obs_exp_annot.ht')"
   ]
  },
  {
   "cell_type": "code",
   "execution_count": 21,
   "id": "bdbb4738-f850-428f-bd21-6f94eb6a5932",
   "metadata": {},
   "outputs": [
    {
     "name": "stderr",
     "output_type": "stream",
     "text": [
      "2022-11-05 06:17:36 Hail: INFO: merging 16402 files totalling 37.2K...) / 16401]\n",
      "2022-11-05 06:17:38 Hail: INFO: while writing:\n",
      "    ENST00000366684_bp_oe.tsv\n",
      "  merge time: 2.263s\n",
      "2022-11-05 06:24:27 Hail: INFO: merging 16402 files totalling 42.0K...) / 16401]\n",
      "2022-11-05 06:24:29 Hail: INFO: while writing:\n",
      "    ENST00000371953_bp_oe.tsv\n",
      "  merge time: 2.249s\n",
      "2022-11-05 06:31:27 Hail: INFO: merging 16402 files totalling 262.1K... / 16401]\n",
      "2022-11-05 06:31:29 Hail: INFO: while writing:\n",
      "    ENST00000298910_bp_oe.tsv\n",
      "  merge time: 2.248s\n",
      "2022-11-05 06:39:00 Hail: INFO: merging 16402 files totalling 12.8K...) / 16401]\n",
      "2022-11-05 06:39:03 Hail: INFO: while writing:\n",
      "    ENST00000320868_bp_oe.tsv\n",
      "  merge time: 2.702s\n",
      "2022-11-05 06:46:23 Hail: INFO: merging 16402 files totalling 84.7K...) / 16401]\n",
      "2022-11-05 06:46:25 Hail: INFO: while writing:\n",
      "    ENST00000359125_bp_oe.tsv\n",
      "  merge time: 2.241s\n",
      "2022-11-05 06:53:12 Hail: INFO: merging 16402 files totalling 25...+ 3) / 16401]\n",
      "2022-11-05 06:53:14 Hail: INFO: while writing:\n",
      "    ENST00000393087_bp_oe.tsv\n",
      "  merge time: 2.250s\n",
      "2022-11-05 07:00:00 Hail: INFO: merging 16402 files totalling 72.6K...) / 16401]\n",
      "2022-11-05 07:00:02 Hail: INFO: while writing:\n",
      "    ENST00000281708_bp_oe.tsv\n",
      "  merge time: 2.752s\n",
      "2022-11-05 07:07:00 Hail: INFO: merging 16402 files totalling 25...+ 4) / 16401]\n",
      "2022-11-05 07:07:02 Hail: INFO: while writing:\n",
      "    ENST00000640769_bp_oe.tsv\n",
      "  merge time: 2.716s\n",
      "2022-11-05 07:13:39 Hail: INFO: merging 16402 files totalling 57.2K...) / 16401]\n",
      "2022-11-05 07:13:42 Hail: INFO: while writing:\n",
      "    ENST00000270139_bp_oe.tsv\n",
      "  merge time: 2.247s\n",
      "2022-11-05 07:20:08 Hail: INFO: merging 16402 files totalling 51.3K...) / 16401]\n",
      "2022-11-05 07:20:10 Hail: INFO: while writing:\n",
      "    ENST00000262030_bp_oe.tsv\n",
      "  merge time: 2.272s\n"
     ]
    }
   ],
   "source": [
    "# json file with list of transcripts\n",
    "transcripts_file = open(\"transcripts.json\", \"r\")\n",
    "TRANSCRIPTS = json.load(transcripts_file)\n",
    "\n",
    "# iterate on transcripts\n",
    "for current_transcript in TRANSCRIPTS:\n",
    "    \n",
    "    # filter to current canonical transcript\n",
    "    ht = rmc_ht.filter(rmc_ht.transcript == current_transcript)\n",
    "    \n",
    "    # annotate with the cumulative exp of previous row\n",
    "    ht = ht.annotate(prev_row_cumexp=hl.scan.take(ht.cumulative_exp,1,ordering=-ht.cumulative_exp).first())\n",
    "\n",
    "    # calculate locus-specific expected by taking the difference\n",
    "    ht = ht.annotate(exp = ht.cumulative_exp - hl.coalesce(ht.prev_row_cumexp,0))\n",
    "\n",
    "    # keep what we need and rename observed to obs\n",
    "    ht = ht.select(ht.exp, obs = ht.observed)\n",
    "    \n",
    "    # export\n",
    "    ht.export(\"{0}_bp_oe.tsv\".format(current_transcript))"
   ]
  }
 ],
 "metadata": {
  "kernelspec": {
   "display_name": "Python [conda env:python310]",
   "language": "python",
   "name": "conda-env-python310-py"
  },
  "language_info": {
   "codemirror_mode": {
    "name": "ipython",
    "version": 3
   },
   "file_extension": ".py",
   "mimetype": "text/x-python",
   "name": "python",
   "nbconvert_exporter": "python",
   "pygments_lexer": "ipython3",
   "version": "3.10.6"
  },
  "vscode": {
   "interpreter": {
    "hash": "087e340e1a694abe737fd9a0bfd54a8e3dc5ffcd46f4d389ce47f4cbcfc7ee8a"
   }
  }
 },
 "nbformat": 4,
 "nbformat_minor": 5
}
