{
 "cells": [
  {
   "cell_type": "code",
   "execution_count": 1,
   "id": "bb258de9-95ad-48d1-be8b-e7d4c37164c4",
   "metadata": {},
   "outputs": [
    {
     "ename": "ModuleNotFoundError",
     "evalue": "No module named 'hail'",
     "output_type": "error",
     "traceback": [
      "\u001b[0;31m---------------------------------------------------------------------------\u001b[0m",
      "\u001b[0;31mModuleNotFoundError\u001b[0m                       Traceback (most recent call last)",
      "\u001b[0;32m/tmp/ipykernel_214/3826159738.py\u001b[0m in \u001b[0;36m<module>\u001b[0;34m\u001b[0m\n\u001b[1;32m      2\u001b[0m \u001b[0;31m# extract mutational model parameters from RMC project\u001b[0m\u001b[0;34m\u001b[0m\u001b[0;34m\u001b[0m\u001b[0;34m\u001b[0m\u001b[0m\n\u001b[1;32m      3\u001b[0m \u001b[0;34m\u001b[0m\u001b[0m\n\u001b[0;32m----> 4\u001b[0;31m \u001b[0;32mimport\u001b[0m \u001b[0mhail\u001b[0m \u001b[0;32mas\u001b[0m \u001b[0mhl\u001b[0m\u001b[0;34m\u001b[0m\u001b[0;34m\u001b[0m\u001b[0m\n\u001b[0m\u001b[1;32m      5\u001b[0m hl.init(default_reference='GRCh38',\n\u001b[1;32m      6\u001b[0m         spark_conf = {\n",
      "\u001b[0;31mModuleNotFoundError\u001b[0m: No module named 'hail'"
     ]
    }
   ],
   "source": [
    "# LT 21/09/2022\n",
    "# extract mutational model parameters from RMC project\n",
    "\n",
    "import hail as hl\n",
    "hl.init(default_reference='GRCh38',\n",
    "        spark_conf = {\n",
    "            'spark.hadoop.fs.gs.requester.pays.mode': 'CUSTOM',\n",
    "            'spark.hadoop.fs.gs.requester.pays.buckets': 'regional_missense_constraint',\n",
    "            'spark.hadoop.fs.gs.requester.pays.project.id': 'constraint-232598',\n",
    "        })"
   ]
  },
  {
   "cell_type": "code",
   "execution_count": null,
   "id": "202034df-c9ba-4fb7-be19-444a4a3bb4c5",
   "metadata": {},
   "outputs": [],
   "source": [
    "# RMC results table\n",
    "ht = hl.read_table('gs://regional_missense_constraint/model/2.1.1/1/context_obs_exp_annot.ht')"
   ]
  },
  {
   "cell_type": "code",
   "execution_count": null,
   "id": "13df3307",
   "metadata": {},
   "outputs": [],
   "source": [
    "# filter to ACTA1 canonical transcript\n",
    "ht = ht.filter(ht.transcript==\"ENST00000366684\").persist()"
   ]
  },
  {
   "cell_type": "code",
   "execution_count": null,
   "id": "73f54f36",
   "metadata": {},
   "outputs": [],
   "source": [
    "# annotate with the cumulative exp of previous row\n",
    "ht = ht.annotate(prev_row_cumexp=hl.scan.take(ht.cumulative_exp,1,ordering=-ht.cumulative_exp).first())\n",
    "\n",
    "# calculate locus-specific expected by taking the difference\n",
    "ht = ht.annotate(exp = ht.cumulative_exp - hl.coalesce(ht.prev_row_cumexp,0))\n",
    "\n",
    "# keep what we need and rename observed to obs\n",
    "ht = ht.select(ht.mutate(obs = ht.observed).obs, ht.exp)\n",
    "\n",
    "# export\n",
    "ht.export(\"ENST00000366684_bp_oe.tsv\")"
   ]
  }
 ],
 "metadata": {
  "kernelspec": {
   "display_name": "Python 3.10.7 64-bit (microsoft store)",
   "language": "python",
   "name": "python3"
  },
  "language_info": {
   "codemirror_mode": {
    "name": "ipython",
    "version": 3
   },
   "file_extension": ".py",
   "mimetype": "text/x-python",
   "name": "python",
   "nbconvert_exporter": "python",
   "pygments_lexer": "ipython3",
   "version": "3.10.7"
  },
  "vscode": {
   "interpreter": {
    "hash": "087e340e1a694abe737fd9a0bfd54a8e3dc5ffcd46f4d389ce47f4cbcfc7ee8a"
   }
  }
 },
 "nbformat": 4,
 "nbformat_minor": 5
}
