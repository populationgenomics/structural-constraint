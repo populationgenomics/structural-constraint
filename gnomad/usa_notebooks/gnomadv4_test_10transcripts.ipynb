{
 "cells": [
  {
   "cell_type": "code",
   "execution_count": 2,
   "id": "f54d2cee-a084-429e-a815-259bb9fb310d",
   "metadata": {},
   "outputs": [],
   "source": [
    "import hail as hl"
   ]
  },
  {
   "cell_type": "code",
   "execution_count": 3,
   "id": "4c025ade-5224-4e3c-85d4-0d09d0a29796",
   "metadata": {},
   "outputs": [
    {
     "name": "stdout",
     "output_type": "stream",
     "text": [
      "2022-08-29 02:58:16 WARN  NativeCodeLoader:60 - Unable to load native-hadoop library for your platform... using builtin-java classes where applicable\n"
     ]
    },
    {
     "name": "stderr",
     "output_type": "stream",
     "text": [
      "Setting default log level to \"WARN\".\n",
      "To adjust logging level use sc.setLogLevel(newLevel). For SparkR, use setLogLevel(newLevel).\n",
      "Running on Apache Spark version 3.1.3\n",
      "SparkUI available at http://4010d8f3bc00:4040\n",
      "Welcome to\n",
      "     __  __     <>__\n",
      "    / /_/ /__  __/ /\n",
      "   / __  / _ `/ / /\n",
      "  /_/ /_/\\_,_/_/_/   version 0.2.97-937922d7f46c\n",
      "LOGGING: writing to /home/jupyter/hail-20220829-0258-0.2.97-937922d7f46c.log\n"
     ]
    }
   ],
   "source": [
    "hl.init(default_reference='GRCh38',\n",
    "        spark_conf = {\n",
    "            'spark.hadoop.fs.gs.requester.pays.mode': 'CUSTOM',\n",
    "            'spark.hadoop.fs.gs.requester.pays.buckets': 'gnomad',\n",
    "            'spark.hadoop.fs.gs.requester.pays.project.id': 'constraint-232598',\n",
    "        })"
   ]
  },
  {
   "cell_type": "code",
   "execution_count": 4,
   "id": "2bddc2f0-a2d2-4584-afcb-d62c41d7ec77",
   "metadata": {},
   "outputs": [],
   "source": [
    "bigdata = hl.vds.read_vds('gs://gnomad/v4.0/raw/exomes/gnomad_v4.0.vds')"
   ]
  },
  {
   "cell_type": "code",
   "execution_count": 5,
   "id": "c52a23dc-973b-4f73-bae3-44a125b4efb6",
   "metadata": {},
   "outputs": [
    {
     "data": {
      "text/plain": [
       "955359"
      ]
     },
     "execution_count": 5,
     "metadata": {},
     "output_type": "execute_result"
    }
   ],
   "source": [
    "bigdata.n_samples()"
   ]
  },
  {
   "cell_type": "code",
   "execution_count": null,
   "id": "6a9547d2-bd25-4a35-99bc-715ebd245aa9",
   "metadata": {},
   "outputs": [],
   "source": [
    "acta_intervals = hl.experimental.get_gene_intervals(transcript_ids=['ENST00000366684'], reference_genome='GRCh38')"
   ]
  },
  {
   "cell_type": "code",
   "execution_count": null,
   "id": "7dca73d3-6acb-4f5a-9bef-102138ea9335",
   "metadata": {},
   "outputs": [],
   "source": [
    "acta_intervals"
   ]
  },
  {
   "cell_type": "code",
   "execution_count": null,
   "id": "3ddc7549-7626-4dfd-b67c-502a0f7f2d64",
   "metadata": {},
   "outputs": [],
   "source": []
  },
  {
   "cell_type": "code",
   "execution_count": null,
   "id": "82e13a52-4455-45a5-9cb4-0af131c2df98",
   "metadata": {},
   "outputs": [],
   "source": [
    "smalldata = hl.vds.filter_intervals(bigdata, acta_intervals, split_reference_blocks=False, keep=True)"
   ]
  },
  {
   "cell_type": "code",
   "execution_count": null,
   "id": "b143ad70-26b1-4258-8399-2d1c02d2fcec",
   "metadata": {},
   "outputs": [],
   "source": [
    "smalldata.variant_data.count()"
   ]
  },
  {
   "cell_type": "code",
   "execution_count": null,
   "id": "3a9f6930-0b71-40f0-9f3b-d8ad25013ce8",
   "metadata": {},
   "outputs": [],
   "source": [
    "#smalldata = hl.vds.split_multi(smalldata)\n",
    "#smalldata.variant_data.count()"
   ]
  },
  {
   "cell_type": "code",
   "execution_count": null,
   "id": "3c7b6ec9-9ce2-41ce-9580-2e9e91403d89",
   "metadata": {},
   "outputs": [],
   "source": [
    "acta1_mt = hl.vds.to_dense_mt(smalldata)"
   ]
  },
  {
   "cell_type": "code",
   "execution_count": null,
   "id": "56c9684e-c8f4-4185-843f-15da89d11080",
   "metadata": {},
   "outputs": [],
   "source": [
    "acta1_mt.describe()"
   ]
  },
  {
   "cell_type": "code",
   "execution_count": null,
   "id": "5179f210-5acb-4d62-82f7-bcd696cbc111",
   "metadata": {},
   "outputs": [],
   "source": [
    "smalldata.variant_data.show(10,10)"
   ]
  },
  {
   "cell_type": "code",
   "execution_count": null,
   "id": "6ca55df5-b309-4921-9741-f5a14b5b5c3a",
   "metadata": {},
   "outputs": [],
   "source": [
    "# annotate with frequencies\n",
    "mt = hl.variant_qc("
   ]
  },
  {
   "cell_type": "code",
   "execution_count": 6,
   "id": "cb762ec1-f7b0-46b8-bace-ce1123b3555e",
   "metadata": {},
   "outputs": [],
   "source": [
    "TRANSCRIPTS = [\n",
    "    \"ENST00000366684\", # ACTA1\n",
    "    \"ENST00000371953\",  # PTEN\n",
    "    \"ENST00000298910\", # LRRK2\n",
    "    \"ENST00000320868\", # HBA1\n",
    "    \"ENST00000359125\", # KCNQ2\n",
    "    \"ENST00000393087\", # SERPINA1\n",
    "    \"ENST00000281708\",  # FBXW7\n",
    "    \"ENST00000640769\", # RTTN\n",
    "    \"ENST00000270139\", # IFNAR1\n",
    "    \"ENST00000262030\" # ATP5F1B\n",
    "]"
   ]
  },
  {
   "cell_type": "code",
   "execution_count": null,
   "id": "7daad09f-de71-418e-94f6-f8a337ab717e",
   "metadata": {},
   "outputs": [],
   "source": [
    "TRANSCRIPTS"
   ]
  },
  {
   "cell_type": "code",
   "execution_count": null,
   "id": "fee7716a-6ae0-497e-942d-161b31d7b14e",
   "metadata": {},
   "outputs": [],
   "source": [
    "# find genomics coordinates of target transcripts and filter vds\n",
    "target_intervals = hl.experimental.get_gene_intervals(transcript_ids=TRANSCRIPTS, reference_genome='GRCh38')\n",
    "small_vds = hl.vds.filter_intervals(bigdata, target_intervals, split_reference_blocks=False, keep=True)"
   ]
  },
  {
   "cell_type": "code",
   "execution_count": null,
   "id": "9959b87d-2be8-4c9c-984d-791fcb89ecf5",
   "metadata": {},
   "outputs": [],
   "source": [
    "# densify as a MatrixTable\n",
    "mt = hl.vds.to_dense_mt(small_vds)"
   ]
  },
  {
   "cell_type": "code",
   "execution_count": null,
   "id": "26f4bf06-f680-4024-b9ea-1a27ff4dc668",
   "metadata": {},
   "outputs": [],
   "source": [
    "# get alleles frequencies\n",
    "mt = mt.transmute_entries(GT=hl.experimental.lgt_to_gt(mt.LGT, mt.LA))\n",
    "mt = hl.variant_qc(mt)"
   ]
  },
  {
   "cell_type": "code",
   "execution_count": null,
   "id": "74c172a2-e492-4264-86da-5ea8597efb59",
   "metadata": {},
   "outputs": [],
   "source": [
    "# keep only the rows and write down\n",
    "ht = mt.rows()"
   ]
  },
  {
   "cell_type": "code",
   "execution_count": null,
   "id": "fda3de56-90be-4b0f-b3f4-bdef945239f2",
   "metadata": {},
   "outputs": [],
   "source": [
    "ht.describe()"
   ]
  },
  {
   "cell_type": "code",
   "execution_count": null,
   "id": "5de56cb6-0570-4d1d-810e-f1b95bc8775e",
   "metadata": {},
   "outputs": [],
   "source": [
    "ht.write(\"small_ht\", overwrite=True)"
   ]
  },
  {
   "cell_type": "code",
   "execution_count": null,
   "id": "5584ef10-2e17-49d5-9693-856c9f299570",
   "metadata": {},
   "outputs": [],
   "source": [
    "out_file = open(\"transcripts.json\", \"w\")\n",
    "json.dump(TRANSCRIPTS, out_file, indent = 6)\n",
    "out_file.close()"
   ]
  },
  {
   "cell_type": "code",
   "execution_count": null,
   "id": "c8fe380f-e458-437f-90f4-4fb4dde9bbaf",
   "metadata": {},
   "outputs": [],
   "source": [
    "import json"
   ]
  },
  {
   "cell_type": "code",
   "execution_count": null,
   "id": "f613b585-1eba-4897-a6e0-b9e4f35d300b",
   "metadata": {},
   "outputs": [],
   "source": [
    "transcripts_file = open(\"transcripts.json\", \"r\")\n",
    "TR = json.load(transcripts_file)"
   ]
  },
  {
   "cell_type": "code",
   "execution_count": null,
   "id": "8c10c0c8-a701-4ea7-8a61-d0e339b274ff",
   "metadata": {},
   "outputs": [],
   "source": [
    "TR"
   ]
  },
  {
   "cell_type": "code",
   "execution_count": null,
   "id": "87d7575f-c2bd-43f5-8aa9-8a2d862e3c16",
   "metadata": {},
   "outputs": [],
   "source": [
    "ht.count()"
   ]
  },
  {
   "cell_type": "code",
   "execution_count": 10,
   "id": "2aab0a53-3b45-4d41-a9a7-3b507fefafac",
   "metadata": {},
   "outputs": [
    {
     "name": "stdout",
     "output_type": "stream",
     "text": [
      "toto\n"
     ]
    }
   ],
   "source": [
    "if (1<2):\n",
    "    print('toto')"
   ]
  },
  {
   "cell_type": "code",
   "execution_count": null,
   "id": "17b899cf-1d1a-4108-ab87-733150a9e3ae",
   "metadata": {},
   "outputs": [
    {
     "name": "stderr",
     "output_type": "stream",
     "text": [
      "2022-08-26 07:57:24 Hail: INFO: Reading table without type imputation0 + 1) / 1]\n",
      "  Loading field 'f0' as type str (not specified)\n",
      "  Loading field 'f1' as type str (not specified)\n",
      "  Loading field 'f2' as type str (not specified)\n",
      "  Loading field 'f3' as type int32 (user-supplied)\n",
      "  Loading field 'f4' as type int32 (user-supplied)\n",
      "  Loading field 'f5' as type float64 (user-supplied)\n",
      "  Loading field 'f6' as type str (not specified)\n",
      "  Loading field 'f7' as type int32 (user-supplied)\n",
      "  Loading field 'f8' as type str (not specified)\n",
      "2022-08-26 07:57:37 Hail: INFO: wrote table with 1905483 rows in 12 partitions to /tmp/uElheSesW6hLJrfJ4xBEEx\n",
      "2022-08-26 07:57:41 Hail: INFO: Ordering unsorted dataset with network shuffle2]\n",
      "[Stage 6:>                                                        (0 + 12) / 12]\r"
     ]
    }
   ],
   "source": [
    "GENCODE = 'gencode.v39.basic.annotation.gtf.bgz'\n",
    "target_intervals = hl.experimental.get_gene_intervals(transcript_ids=TRANSCRIPTS, reference_genome='GRCh38', gtf_file=GENCODE)"
   ]
  },
  {
   "cell_type": "code",
   "execution_count": null,
   "id": "f5fc5550-5221-4411-97e8-4645f136e94c",
   "metadata": {},
   "outputs": [],
   "source": [
    "small_vds = hl.vds.filter_intervals(big_vds, target_intervals, split_reference_blocks=False, keep=True)"
   ]
  }
 ],
 "metadata": {
  "kernelspec": {
   "display_name": "Python 3 (ipykernel)",
   "language": "python",
   "name": "python3"
  },
  "language_info": {
   "codemirror_mode": {
    "name": "ipython",
    "version": 3
   },
   "file_extension": ".py",
   "mimetype": "text/x-python",
   "name": "python",
   "nbconvert_exporter": "python",
   "pygments_lexer": "ipython3",
   "version": "3.7.12"
  }
 },
 "nbformat": 4,
 "nbformat_minor": 5
}
