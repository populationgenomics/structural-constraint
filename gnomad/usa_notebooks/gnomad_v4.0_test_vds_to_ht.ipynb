{
 "cells": [
  {
   "cell_type": "code",
   "execution_count": 1,
   "id": "ef94db02-fd2d-4839-9904-74a30f9ee5fd",
   "metadata": {},
   "outputs": [
    {
     "name": "stdout",
     "output_type": "stream",
     "text": [
      "2022-09-01 00:52:44 WARN  NativeCodeLoader:60 - Unable to load native-hadoop library for your platform... using builtin-java classes where applicable\n"
     ]
    },
    {
     "name": "stderr",
     "output_type": "stream",
     "text": [
      "Setting default log level to \"WARN\".\n",
      "To adjust logging level use sc.setLogLevel(newLevel). For SparkR, use setLogLevel(newLevel).\n",
      "Running on Apache Spark version 3.1.3\n",
      "SparkUI available at http://5c0cee79c122:4040\n",
      "Welcome to\n",
      "     __  __     <>__\n",
      "    / /_/ /__  __/ /\n",
      "   / __  / _ `/ / /\n",
      "  /_/ /_/\\_,_/_/_/   version 0.2.97-937922d7f46c\n",
      "LOGGING: writing to /home/jupyter/hail-20220901-0052-0.2.97-937922d7f46c.log\n"
     ]
    }
   ],
   "source": [
    "# LT 30/08/2022\n",
    "# gnomAD v4 prototyping test using gnomAD v4 exomes test vds\n",
    "\n",
    "import hail as hl\n",
    "hl.init(default_reference='GRCh38',\n",
    "        spark_conf = {\n",
    "            'spark.hadoop.fs.gs.requester.pays.mode': 'CUSTOM',\n",
    "            'spark.hadoop.fs.gs.requester.pays.buckets': 'gnomad',\n",
    "            'spark.hadoop.fs.gs.requester.pays.project.id': 'constraint-232598',\n",
    "        })\n"
   ]
  },
  {
   "cell_type": "code",
   "execution_count": 2,
   "id": "716e4bfd-c0a0-43e4-a468-42877e052e82",
   "metadata": {},
   "outputs": [
    {
     "name": "stderr",
     "output_type": "stream",
     "text": [
      "2022-08-30 00:06:38 Hail: INFO: wrote table with 3268516 rows in 3600 partitions to gnomad_v4.0_test.ht\n"
     ]
    }
   ],
   "source": [
    "# gnomAD v4 exomes test VDS\n",
    "small_vds = hl.vds.read_vds('gs://gnomad/v4.0/raw/exomes/testing/gnomad_v4.0_test.vds')\n",
    "\n",
    "# densify as a MatrixTable\n",
    "mt = hl.vds.to_dense_mt(small_vds)\n",
    "\n",
    "# remove REF/REF rows left after densification\n",
    "mt = mt.filter_rows(hl.len(mt.alleles) < 2, keep=False)\n",
    "\n",
    "# get alleles frequencies\n",
    "mt = mt.transmute_entries(GT=hl.experimental.lgt_to_gt(mt.LGT, mt.LA))\n",
    "mt = hl.variant_qc(mt)\n",
    "\n",
    "# keep only the rows\n",
    "# persist to avoid double evaluation later \n",
    "ht = mt.rows().checkpoint('gnomad_v4.0_test.ht', overwrite=True)"
   ]
  },
  {
   "cell_type": "code",
   "execution_count": 3,
   "id": "85a09f96-21be-4332-9083-34184605a762",
   "metadata": {},
   "outputs": [],
   "source": [
    "#hl.stop()"
   ]
  },
  {
   "cell_type": "code",
   "execution_count": 4,
   "id": "c38e6b93-8e50-4f70-8af4-dd5b6a037690",
   "metadata": {},
   "outputs": [
    {
     "data": {
      "text/plain": [
       "3268516"
      ]
     },
     "execution_count": 4,
     "metadata": {},
     "output_type": "execute_result"
    }
   ],
   "source": [
    "ht.count()"
   ]
  },
  {
   "cell_type": "code",
   "execution_count": 2,
   "id": "db5f620d-2295-4d7d-826d-a2e4ac4a9154",
   "metadata": {},
   "outputs": [],
   "source": [
    "# try naive vep without install\n",
    "# cannot perform local install of vep"
   ]
  },
  {
   "cell_type": "code",
   "execution_count": 3,
   "id": "330fe715-be42-4ee1-99ac-d1fe804079d3",
   "metadata": {},
   "outputs": [],
   "source": [
    "# read small table and repartion to check performance\n",
    "ht = hl.read_table('gnomad_v4.0_test.ht')"
   ]
  },
  {
   "cell_type": "code",
   "execution_count": 4,
   "id": "81bf5b18-ec92-4082-aea9-b16d5ccf8d19",
   "metadata": {},
   "outputs": [
    {
     "data": {
      "text/plain": [
       "3600"
      ]
     },
     "execution_count": 4,
     "metadata": {},
     "output_type": "execute_result"
    }
   ],
   "source": [
    "ht.n_partitions()"
   ]
  },
  {
   "cell_type": "code",
   "execution_count": 6,
   "id": "1db50cc1-4ca7-4e29-b0db-a01a92d31879",
   "metadata": {},
   "outputs": [
    {
     "name": "stderr",
     "output_type": "stream",
     "text": [
      "2022-08-31 06:05:45 Hail: WARN: coalesced to 996 partitions, less than requested 1000\n",
      "2022-08-31 06:06:11 Hail: INFO: wrote table with 3268516 rows in 996 partitions to gnomad_v4.0_test_repart.ht\n",
      "    Total size: 270.91 MiB\n",
      "    * Rows: 270.91 MiB\n",
      "    * Globals: 11.00 B\n",
      "    * Smallest partition: 541 rows (47.49 KiB)\n",
      "    * Largest partition:  8925 rows (829.98 KiB)\n"
     ]
    }
   ],
   "source": [
    "ht_repart = ht.repartition(1000, shuffle=False).checkpoint('gnomad_v4.0_test_repart.ht')"
   ]
  },
  {
   "cell_type": "code",
   "execution_count": 8,
   "id": "d61b796d-41dd-483c-bab0-8dcfd967cc2f",
   "metadata": {},
   "outputs": [
    {
     "name": "stderr",
     "output_type": "stream",
     "text": [
      "2022-08-31 06:38:26 Hail: INFO: wrote table with 3268516 rows in 1000 partitions to gnomad_v4.0_test_repart.ht\n",
      "    Total size: 270.92 MiB\n",
      "    * Rows: 270.92 MiB\n",
      "    * Globals: 11.00 B\n",
      "    * Smallest partition: 1312 rows (110.64 KiB)\n",
      "    * Largest partition:  6073 rows (506.51 KiB)\n"
     ]
    }
   ],
   "source": [
    "ht_repart = ht.repartition(1000, shuffle=True).checkpoint('gnomad_v4.0_test_repart.ht', overwrite=True)"
   ]
  },
  {
   "cell_type": "code",
   "execution_count": 2,
   "id": "d14d3664-1765-4832-84e3-84eb0f15d497",
   "metadata": {},
   "outputs": [
    {
     "data": {
      "text/plain": [
       "(3268516, 649)"
      ]
     },
     "execution_count": 2,
     "metadata": {},
     "output_type": "execute_result"
    }
   ],
   "source": [
    "# gnomAD v4 exomes test VDS\n",
    "vds = hl.vds.read_vds('gs://gnomad/v4.0/raw/exomes/testing/gnomad_v4.0_test.vds')\n",
    "vds.variant_data.count()"
   ]
  },
  {
   "cell_type": "code",
   "execution_count": null,
   "id": "f087484a-4517-487c-be35-7afa585b3db8",
   "metadata": {},
   "outputs": [],
   "source": []
  }
 ],
 "metadata": {
  "kernelspec": {
   "display_name": "Python 3 (ipykernel)",
   "language": "python",
   "name": "python3"
  },
  "language_info": {
   "codemirror_mode": {
    "name": "ipython",
    "version": 3
   },
   "file_extension": ".py",
   "mimetype": "text/x-python",
   "name": "python",
   "nbconvert_exporter": "python",
   "pygments_lexer": "ipython3",
   "version": "3.7.12"
  }
 },
 "nbformat": 4,
 "nbformat_minor": 5
}
