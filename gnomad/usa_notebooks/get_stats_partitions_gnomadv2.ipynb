{
 "cells": [
  {
   "cell_type": "code",
   "execution_count": null,
   "id": "900a5c0d-b694-401f-a888-bbc558fc8df3",
   "metadata": {},
   "outputs": [],
   "source": [
    "import hail as hl\n",
    "hl.init(default_reference='GRCh37')"
   ]
  },
  {
   "cell_type": "code",
   "execution_count": 4,
   "id": "79b381b6-8eec-4477-bfa4-4b7e15ec23f3",
   "metadata": {},
   "outputs": [
    {
     "data": {
      "text/plain": [
       "9997"
      ]
     },
     "execution_count": 4,
     "metadata": {},
     "output_type": "execute_result"
    }
   ],
   "source": [
    "gnomad_ht_path = 'gs://gcp-public-data--gnomad/release/2.1.1/ht/exomes/gnomad.exomes.r2.1.1.sites.ht/'\n",
    "ht = hl.read_table(gnomad_ht_path)\n",
    "ht.n_partitions()"
   ]
  },
  {
   "cell_type": "code",
   "execution_count": 5,
   "id": "16de7d81-79e2-4efc-8965-2a6004fcc56f",
   "metadata": {},
   "outputs": [
    {
     "data": {
      "text/plain": [
       "17209972"
      ]
     },
     "execution_count": 5,
     "metadata": {},
     "output_type": "execute_result"
    }
   ],
   "source": [
    "ht.count()"
   ]
  },
  {
   "cell_type": "code",
   "execution_count": 7,
   "id": "c5fe8693-385c-430c-b161-2eb57e546928",
   "metadata": {},
   "outputs": [
    {
     "data": {
      "text/plain": [
       "106097.63190980206"
      ]
     },
     "execution_count": 7,
     "metadata": {},
     "output_type": "execute_result"
    }
   ],
   "source": [
    "182648522/17209972 * 9997"
   ]
  },
  {
   "cell_type": "code",
   "execution_count": null,
   "id": "b46cc300-39db-423e-a6c3-ca78322ea3e9",
   "metadata": {},
   "outputs": [],
   "source": []
  }
 ],
 "metadata": {
  "kernelspec": {
   "display_name": "Python 3 (ipykernel)",
   "language": "python",
   "name": "python3"
  },
  "language_info": {
   "codemirror_mode": {
    "name": "ipython",
    "version": 3
   },
   "file_extension": ".py",
   "mimetype": "text/x-python",
   "name": "python",
   "nbconvert_exporter": "python",
   "pygments_lexer": "ipython3",
   "version": "3.7.12"
  }
 },
 "nbformat": 4,
 "nbformat_minor": 5
}
