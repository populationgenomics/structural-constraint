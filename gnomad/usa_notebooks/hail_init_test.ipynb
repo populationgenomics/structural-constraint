{
 "cells": [
  {
   "cell_type": "code",
   "execution_count": 1,
   "id": "da9b785d-dde2-4cb1-a3d4-da45ff6d35df",
   "metadata": {},
   "outputs": [],
   "source": [
    "import hail as hl"
   ]
  },
  {
   "cell_type": "code",
   "execution_count": 2,
   "id": "b9b4825f-1015-46c7-bd5e-2d02143d66ee",
   "metadata": {},
   "outputs": [
    {
     "name": "stdout",
     "output_type": "stream",
     "text": [
      "2022-09-01 22:24:32 WARN  NativeCodeLoader:60 - Unable to load native-hadoop library for your platform... using builtin-java classes where applicable\n"
     ]
    },
    {
     "name": "stderr",
     "output_type": "stream",
     "text": [
      "Setting default log level to \"WARN\".\n",
      "To adjust logging level use sc.setLogLevel(newLevel). For SparkR, use setLogLevel(newLevel).\n",
      "Running on Apache Spark version 3.1.3\n",
      "SparkUI available at http://0129d71e2bdb:4040\n",
      "Welcome to\n",
      "     __  __     <>__\n",
      "    / /_/ /__  __/ /\n",
      "   / __  / _ `/ / /\n",
      "  /_/ /_/\\_,_/_/_/   version 0.2.97-937922d7f46c\n",
      "LOGGING: writing to /home/jupyter/hail-20220901-2224-0.2.97-937922d7f46c.log\n"
     ]
    }
   ],
   "source": [
    "hl.init(default_reference='GRCh38',\n",
    "        spark_conf = {\n",
    "            'spark.hadoop.fs.gs.requester.pays.mode': 'CUSTOM',\n",
    "            'spark.hadoop.fs.gs.requester.pays.buckets': 'gnomad',\n",
    "            'spark.hadoop.fs.gs.requester.pays.project.id': 'constraint-232598',\n",
    "        })"
   ]
  },
  {
   "cell_type": "code",
   "execution_count": 3,
   "id": "446c1dbb-3847-473b-a4a4-a3396e4476f1",
   "metadata": {},
   "outputs": [],
   "source": [
    "vds = hl.vds.read_vds('gs://gnomad/v4.0/raw/exomes/gnomad_v4.0.vds')"
   ]
  },
  {
   "cell_type": "code",
   "execution_count": 4,
   "id": "7f2a4f8c-064b-4ed9-af63-1f9df94815ce",
   "metadata": {},
   "outputs": [
    {
     "data": {
      "text/plain": [
       "(182648522, 955359)"
      ]
     },
     "execution_count": 4,
     "metadata": {},
     "output_type": "execute_result"
    }
   ],
   "source": [
    "vds.variant_data.count()"
   ]
  },
  {
   "cell_type": "code",
   "execution_count": 5,
   "id": "2b9f8312-a1ed-4f9b-9bb5-e8edb90a3b7d",
   "metadata": {},
   "outputs": [
    {
     "data": {
      "text/plain": [
       "47960"
      ]
     },
     "execution_count": 5,
     "metadata": {},
     "output_type": "execute_result"
    }
   ],
   "source": [
    "vds.variant_data.n_partitions()"
   ]
  },
  {
   "cell_type": "code",
   "execution_count": 6,
   "id": "46c8b5ab-335b-4b60-b2d0-4af9914059e7",
   "metadata": {},
   "outputs": [
    {
     "data": {
      "text/plain": [
       "47960"
      ]
     },
     "execution_count": 6,
     "metadata": {},
     "output_type": "execute_result"
    }
   ],
   "source": [
    "vds.reference_data.n_partitions()"
   ]
  },
  {
   "cell_type": "code",
   "execution_count": null,
   "id": "758ec8df-bfdf-4bf0-a6c4-5d045c9f3e10",
   "metadata": {},
   "outputs": [],
   "source": []
  }
 ],
 "metadata": {
  "kernelspec": {
   "display_name": "Python 3 (ipykernel)",
   "language": "python",
   "name": "python3"
  },
  "language_info": {
   "codemirror_mode": {
    "name": "ipython",
    "version": 3
   },
   "file_extension": ".py",
   "mimetype": "text/x-python",
   "name": "python",
   "nbconvert_exporter": "python",
   "pygments_lexer": "ipython3",
   "version": "3.7.12"
  }
 },
 "nbformat": 4,
 "nbformat_minor": 5
}
